{
 "cells": [
  {
   "cell_type": "markdown",
   "metadata": {
    "application/vnd.databricks.v1+cell": {
     "cellMetadata": {},
     "inputWidgets": {},
     "nuid": "6a96ab5a-e2d4-40a8-9134-6312ee2b2f31",
     "showTitle": false,
     "tableResultSettingsMap": {},
     "title": ""
    }
   },
   "source": [
    "## __Cuestión 1__\n",
    "\n",
    "Crea dos vectores de igual longitud con valores entre 1 y 50 que sigan una distribución uniforme. \n",
    "Calcula:\n",
    "\n",
    "La suma de sus elementos correspondientes (vector resultante)\n",
    "\n",
    "El producto escalar de los dos vectores\n",
    "\n",
    "La correlación entre ambos vectores"
   ]
  },
  {
   "cell_type": "code",
   "execution_count": 0,
   "metadata": {
    "application/vnd.databricks.v1+cell": {
     "cellMetadata": {
      "byteLimit": 2048000,
      "rowLimit": 10000
     },
     "inputWidgets": {},
     "nuid": "417b4bd1-ca0e-4db8-b460-209b7da443e6",
     "showTitle": false,
     "tableResultSettingsMap": {},
     "title": ""
    }
   },
   "outputs": [
    {
     "output_type": "stream",
     "name": "stdout",
     "output_type": "stream",
     "text": [
      "Vector 1:\n[42 28 16 15 47 44  3 37  7 21]\nVector 2:\n[ 9 39 18  4 25 14 50  9 26  2]\nSuma de vectores:\n[51 67 34 19 72 58 53 46 33 23]\nProducto escalar:\n4316\nCorrelación entre los vectores:\n-0.34951804793171165\n"
     ]
    }
   ],
   "source": [
    "# Importamos la librería numpy para manejar operaciones vectoriales\n",
    "import numpy as np\n",
    "\n",
    "# Definimos la longitud de nuestros vectores.n = 10 como ejemplo.\n",
    "n = 10\n",
    "\n",
    "# Generamos el primer vector con valores enteros entre 1 y 50.\n",
    "# Utilizamos np.random.randint que genera números aleatorios en el rango [1, 51) (el 51 es exclusivo).\n",
    "v1 = np.random.randint(1, 51, size=n)\n",
    "\n",
    "# Generamos el segundo vector de la misma manera.\n",
    "v2 = np.random.randint(1, 51, size=n)\n",
    "\n",
    "# Calculamos la suma de ambos vectores, sumando elemento a elemento.\n",
    "suma_vectores = v1 + v2\n",
    "\n",
    "# Calculamos el producto escalar (dot product) multiplicando cada par de elementos correspondientes y sumando los resultados.\n",
    "producto_escalar = np.dot(v1, v2)\n",
    "\n",
    "# Calculamos la correlación entre ambos vectores.\n",
    "# Usamos np.corrcoef que devuelve la matriz de correlación y extraemos el coeficiente en la posición [0, 1].\n",
    "correlacion = np.corrcoef(v1, v2)[0, 1]\n",
    "\n",
    "# Imprimimos los resultados para ver la salida.\n",
    "print(\"Vector 1:\")\n",
    "print(v1)\n",
    "print(\"Vector 2:\")\n",
    "print(v2)\n",
    "print(\"Suma de vectores:\")\n",
    "print(suma_vectores)\n",
    "print(\"Producto escalar:\")\n",
    "print(producto_escalar)\n",
    "print(\"Correlación entre los vectores:\")\n",
    "print(correlacion)\n",
    "\n"
   ]
  },
  {
   "cell_type": "markdown",
   "metadata": {
    "application/vnd.databricks.v1+cell": {
     "cellMetadata": {},
     "inputWidgets": {},
     "nuid": "4433c588-c89c-4899-8eb9-089128b25fe5",
     "showTitle": false,
     "tableResultSettingsMap": {},
     "title": ""
    }
   },
   "source": [
    "## Cuestión 2\n",
    "\n",
    "Defina una función que encuentre la intersección de dos listas; es decir, que devuelva sus elementos comunes"
   ]
  },
  {
   "cell_type": "code",
   "execution_count": 0,
   "metadata": {
    "application/vnd.databricks.v1+cell": {
     "cellMetadata": {
      "byteLimit": 2048000,
      "rowLimit": 10000
     },
     "inputWidgets": {},
     "nuid": "fe2e71e1-46ee-4269-bb0a-dc0f4d268fa3",
     "showTitle": false,
     "tableResultSettingsMap": {},
     "title": ""
    }
   },
   "outputs": [
    {
     "output_type": "stream",
     "name": "stdout",
     "output_type": "stream",
     "text": [
      "Los elementos comunes entre lA y lB son:\n['1', '9', 'p']\n"
     ]
    }
   ],
   "source": [
    "def listInt(l1, l2):\n",
    "    # Comprobamos que ambas entradas sean listas. Si no lo son, lanzamos un error.\n",
    "    if not isinstance(l1, list) or not isinstance(l2, list):\n",
    "        raise ValueError(\"Debes introducir listas\")\n",
    "    \n",
    "    # Calculamos la intersección\n",
    "    # Convertimos cada elemento a cadena\n",
    "    resultado = []\n",
    "    for item in l1:\n",
    "        if item in l2 and str(item) not in resultado:\n",
    "            resultado.append(str(item))\n",
    "    # Devolvemos la lista con los elementos comunes ya convertidos a string.\n",
    "    return resultado\n",
    "\n",
    "# Ejemplo de prueba:\n",
    "lA = [1, 7, 9, \"o\", \"p\"]\n",
    "lB = [0, 1, 9, \"p\", \"z\"]\n",
    "\n",
    "res = listInt(lA, lB)\n",
    "print(\"Los elementos comunes entre lA y lB son:\")\n",
    "print(res)\n"
   ]
  },
  {
   "cell_type": "markdown",
   "metadata": {
    "application/vnd.databricks.v1+cell": {
     "cellMetadata": {},
     "inputWidgets": {},
     "nuid": "80d75d8f-16b6-4e9c-9b45-d7a29e421d93",
     "showTitle": false,
     "tableResultSettingsMap": {},
     "title": ""
    }
   },
   "source": [
    "## Cuestión 3\n",
    "\n",
    "Defina una función que filtre palabras de una lista según su longitud. La función debe tomar una lista de palabras y un número entero, y devolver una lista con las palabras cuya longitud sea mayor o igual al número dado"
   ]
  },
  {
   "cell_type": "code",
   "execution_count": 0,
   "metadata": {
    "application/vnd.databricks.v1+cell": {
     "cellMetadata": {
      "byteLimit": 2048000,
      "rowLimit": 10000
     },
     "inputWidgets": {},
     "nuid": "6df9a152-9ef7-4070-9100-17640f9616b0",
     "showTitle": false,
     "tableResultSettingsMap": {},
     "title": ""
    }
   },
   "outputs": [
    {
     "output_type": "stream",
     "name": "stdout",
     "output_type": "stream",
     "text": [
      "Palabras con longitud mayor o igual a 4:\n['Perro', 'Columpio', 'Programación', 'Data', 'Caballo']\n"
     ]
    }
   ],
   "source": [
    "def fwords(wordList, minLen):\n",
    "    # Verificamos que la entrada sea una lista.\n",
    "    if not isinstance(wordList, list):\n",
    "        raise ValueError(\"Debes introducir una lista\")\n",
    "    \n",
    "    # Verificamos que minLen sea un número entero.\n",
    "    if not isinstance(minLen, int):\n",
    "        raise ValueError(\"Debes introducir un número entero\")\n",
    "    \n",
    "    # Convertimos la lista a un vector de cadenas.\n",
    "    words = [str(word) for word in wordList]\n",
    "    \n",
    "    # Filtramos las palabras cuya longitud es mayor o igual a minLen.\n",
    "    filt = [word for word in words if len(word) >= minLen]\n",
    "    \n",
    "    # Devolvemos el resultado como una lista, cumpliendo con el enunciado.\n",
    "    return filt\n",
    "\n",
    "# Ejemplo de prueba:\n",
    "wList = [\"Perro\", \"Columpio\", \"Y\", \"Programación\", \"Data\", \"Caballo\"]\n",
    "# Llamamos a la función para filtrar las palabras con longitud >= 4.\n",
    "res = fwords(wList, 4)\n",
    "\n",
    "# Imprimimos el resultado para visualizar las palabras filtradas.\n",
    "print(\"Palabras con longitud mayor o igual a 4:\")\n",
    "print(res)\n"
   ]
  },
  {
   "cell_type": "markdown",
   "metadata": {
    "application/vnd.databricks.v1+cell": {
     "cellMetadata": {},
     "inputWidgets": {},
     "nuid": "e6a6cb08-011d-405d-b431-a7eed0afefa5",
     "showTitle": false,
     "tableResultSettingsMap": {},
     "title": ""
    }
   },
   "source": [
    "## Cuestión 5\n",
    "\n",
    "Defina una función que reciba una palabra y cuente el número de vocales que tiene dicha palabra"
   ]
  },
  {
   "cell_type": "code",
   "execution_count": 0,
   "metadata": {
    "application/vnd.databricks.v1+cell": {
     "cellMetadata": {
      "byteLimit": 2048000,
      "rowLimit": 10000
     },
     "inputWidgets": {},
     "nuid": "7605ab38-fc93-47da-b001-6231076cba9b",
     "showTitle": false,
     "tableResultSettingsMap": {},
     "title": ""
    }
   },
   "outputs": [
    {
     "output_type": "stream",
     "name": "stdout",
     "output_type": "stream",
     "text": [
      "La palabra 'Programación' tiene 5 vocales.\n"
     ]
    }
   ],
   "source": [
    "def count_vowels(word):\n",
    "    # Verificamos que la entrada sea un string.\n",
    "    if not isinstance(word, str):\n",
    "        raise ValueError(\"La entrada debe ser una palabra\")\n",
    "    \n",
    "    # Verificamos que el string no esté vacío.\n",
    "    if len(word) == 0:\n",
    "        raise ValueError(\"La entrada debe ser una palabra\")\n",
    "    \n",
    "    # Convertimos la palabra a minúsculas para facilitar la comparación.\n",
    "    word_lower = word.lower()\n",
    "    \n",
    "    # Definimos las vocales (incluyendo las acentuadas).\n",
    "    vowels = set(\"aeiouáéíóú\")\n",
    "    \n",
    "    # Contamos las vocales en la palabra.\n",
    "    count = sum(1 for char in word_lower if char in vowels)\n",
    "    \n",
    "    return count\n",
    "\n",
    "# Ejemplo de prueba:\n",
    "palabra = \"Programación\"\n",
    "vowel_count = count_vowels(palabra)\n",
    "print(f\"La palabra '{palabra}' tiene {vowel_count} vocales.\")\n"
   ]
  },
  {
   "cell_type": "markdown",
   "metadata": {
    "application/vnd.databricks.v1+cell": {
     "cellMetadata": {},
     "inputWidgets": {},
     "nuid": "01ab8f3b-57eb-4e79-8fc0-f305b6ad3488",
     "showTitle": false,
     "tableResultSettingsMap": {},
     "title": ""
    }
   },
   "source": [
    "## APLICACIÓN DE LOS TEST UNITARIOS"
   ]
  },
  {
   "cell_type": "markdown",
   "metadata": {
    "application/vnd.databricks.v1+cell": {
     "cellMetadata": {},
     "inputWidgets": {},
     "nuid": "b213810f-9500-4331-a5f3-c17018c8ddfe",
     "showTitle": false,
     "tableResultSettingsMap": {},
     "title": ""
    }
   },
   "source": [
    "### Test unitarios de la función listInt de la CUESTIÓN 2\n"
   ]
  },
  {
   "cell_type": "code",
   "execution_count": 0,
   "metadata": {
    "application/vnd.databricks.v1+cell": {
     "cellMetadata": {
      "byteLimit": 2048000,
      "rowLimit": 10000
     },
     "inputWidgets": {},
     "nuid": "1c66bccd-1253-4464-8dd8-60f9a692f088",
     "showTitle": false,
     "tableResultSettingsMap": {},
     "title": ""
    }
   },
   "outputs": [
    {
     "output_type": "stream",
     "name": "stdout",
     "output_type": "stream",
     "text": [
      "Collecting pytest\n  Obtaining dependency information for pytest from https://files.pythonhosted.org/packages/30/3d/64ad57c803f1fa1e963a7946b6e0fea4a70df53c1a7fed304586539c2bac/pytest-8.3.5-py3-none-any.whl.metadata\n  Downloading pytest-8.3.5-py3-none-any.whl.metadata (7.6 kB)\nCollecting iniconfig (from pytest)\n  Obtaining dependency information for iniconfig from https://files.pythonhosted.org/packages/ef/a6/62565a6e1cf69e10f5727360368e451d4b7f58beeac6173dc9db836a5b46/iniconfig-2.0.0-py3-none-any.whl.metadata\n  Downloading iniconfig-2.0.0-py3-none-any.whl.metadata (2.6 kB)\nRequirement already satisfied: packaging in /databricks/python3/lib/python3.11/site-packages (from pytest) (23.2)\nCollecting pluggy<2,>=1.5 (from pytest)\n  Obtaining dependency information for pluggy<2,>=1.5 from https://files.pythonhosted.org/packages/88/5f/e351af9a41f866ac3f1fac4ca0613908d9a41741cfcf2228f4ad853b697d/pluggy-1.5.0-py3-none-any.whl.metadata\n  Downloading pluggy-1.5.0-py3-none-any.whl.metadata (4.8 kB)\nDownloading pytest-8.3.5-py3-none-any.whl (343 kB)\n\u001B[?25l   \u001B[90m━━━━━━━━━━━━━━━━━━━━━━━━━━━━━━━━━━━━━━━━\u001B[0m \u001B[32m0.0/343.6 kB\u001B[0m \u001B[31m?\u001B[0m eta \u001B[36m-:--:--\u001B[0m\n\u001B[2K   \u001B[91m━━━━━━━━━━━━━━━━━━━━━━━\u001B[0m\u001B[91m╸\u001B[0m\u001B[90m━━━━━━━━━━━━━━━━\u001B[0m \u001B[32m204.8/343.6 kB\u001B[0m \u001B[31m6.0 MB/s\u001B[0m eta \u001B[36m0:00:01\u001B[0m\n\u001B[2K   \u001B[90m━━━━━━━━━━━━━━━━━━━━━━━━━━━━━━━━━━━━━━━━\u001B[0m \u001B[32m343.6/343.6 kB\u001B[0m \u001B[31m6.1 MB/s\u001B[0m eta \u001B[36m0:00:00\u001B[0m\n\u001B[?25hDownloading pluggy-1.5.0-py3-none-any.whl (20 kB)\nDownloading iniconfig-2.0.0-py3-none-any.whl (5.9 kB)\nInstalling collected packages: pluggy, iniconfig, pytest\nSuccessfully installed iniconfig-2.0.0 pluggy-1.5.0 pytest-8.3.5\n\u001B[43mNote: you may need to restart the kernel using %restart_python or dbutils.library.restartPython() to use updated packages.\u001B[0m\n"
     ]
    }
   ],
   "source": [
    "pip install pytest"
   ]
  },
  {
   "cell_type": "code",
   "execution_count": 0,
   "metadata": {
    "application/vnd.databricks.v1+cell": {
     "cellMetadata": {
      "byteLimit": 2048000,
      "rowLimit": 10000
     },
     "inputWidgets": {},
     "nuid": "583fef87-967c-4ec6-bc0b-6ea8fb52c311",
     "showTitle": false,
     "tableResultSettingsMap": {},
     "title": ""
    }
   },
   "outputs": [],
   "source": [
    "%restart_python"
   ]
  },
  {
   "cell_type": "code",
   "execution_count": 0,
   "metadata": {
    "application/vnd.databricks.v1+cell": {
     "cellMetadata": {
      "byteLimit": 2048000,
      "rowLimit": 10000
     },
     "inputWidgets": {},
     "nuid": "c086daa0-31a9-461c-a547-949e8aa8f80d",
     "showTitle": false,
     "tableResultSettingsMap": {},
     "title": ""
    }
   },
   "outputs": [],
   "source": [
    "import pytest\n",
    "\n",
    "def listInt(l1, l2):\n",
    "    # Comprobamos que ambas entradas sean listas. Si no lo son, lanzamos un error.\n",
    "    if not isinstance(l1, list) or not isinstance(l2, list):\n",
    "        raise ValueError(\"Debes introducir listas\")\n",
    "    \n",
    "    # Calculamos la intersección, recorriendo l1 y comprobando si cada elemento está en l2.\n",
    "    # Convertimos cada elemento a string para imitar el comportamiento de as.character() de R.\n",
    "    resultado = []\n",
    "    for item in l1:\n",
    "        if item in l2 and str(item) not in resultado:\n",
    "            resultado.append(str(item))\n",
    "    return resultado\n",
    "\n",
    "# Test unitarios para la función listInt\n",
    "\n",
    "def test_listInt_invalid_first_arg():\n",
    "    # Cuando la primera entrada no es una lista.\n",
    "    with pytest.raises(ValueError, match=\"Debes introducir listas\"):\n",
    "        listInt(1, [1, 2, 3])\n",
    "\n",
    "def test_listInt_invalid_second_arg():\n",
    "    # Cuando la segunda entrada no es una lista.\n",
    "    with pytest.raises(ValueError, match=\"Debes introducir listas\"):\n",
    "        listInt([1, 2, 3], 1)\n",
    "\n",
    "def test_listInt_correct_intersection():\n",
    "    # Probamos que la función retorna la intersección correcta.\n",
    "    lA = [1, 2, 5, \"a\", \"b\"]\n",
    "    lB = [2, 3, 5, \"a\", \"c\"]\n",
    "    # Se espera que, tras la conversión a string, la intersección sea: \"2\", \"5\" y \"a\".\n",
    "    result = listInt(lA, lB)\n",
    "    expected = [\"2\", \"5\", \"a\"]\n",
    "    assert result == expected\n",
    "\n",
    "def test_listInt_empty_intersection():\n",
    "    # Probamos que si no hay intersección se retorne una lista vacía.\n",
    "    lA = [1, 2, 3]\n",
    "    lB = [4, 5, 6]\n",
    "    result = listInt(lA, lB)\n",
    "    expected = []\n",
    "    assert result == expected\n",
    "\n"
   ]
  },
  {
   "cell_type": "markdown",
   "metadata": {
    "application/vnd.databricks.v1+cell": {
     "cellMetadata": {},
     "inputWidgets": {},
     "nuid": "b342c636-7dc1-4748-92c3-92a759f812a1",
     "showTitle": false,
     "tableResultSettingsMap": {},
     "title": ""
    }
   },
   "source": [
    "### Test unitarios de la función count_vowels de la CUESTIÓN 5"
   ]
  },
  {
   "cell_type": "code",
   "execution_count": 0,
   "metadata": {
    "application/vnd.databricks.v1+cell": {
     "cellMetadata": {
      "byteLimit": 2048000,
      "rowLimit": 10000
     },
     "inputWidgets": {},
     "nuid": "726e4bd3-9de4-4380-882b-1219f0992a6c",
     "showTitle": false,
     "tableResultSettingsMap": {},
     "title": ""
    }
   },
   "outputs": [],
   "source": [
    "import pytest\n",
    "\n",
    "# La función count_vowels que vamos a testear\n",
    "def count_vowels(word):\n",
    "    # Verificamos que la entrada sea un string.\n",
    "    if not isinstance(word, str):\n",
    "        raise ValueError(\"La entrada debe ser una palabra\")\n",
    "    \n",
    "    # Verificamos que el string no esté vacío.\n",
    "    if len(word) == 0:\n",
    "        raise ValueError(\"La entrada debe ser una palabra\")\n",
    "    \n",
    "    # Convertimos la palabra a minúsculas para facilitar la comparación.\n",
    "    word_lower = word.lower()\n",
    "    \n",
    "    # Definimos las vocales (incluyendo las acentuadas).\n",
    "    vowels = set(\"aeiouáéíóú\")\n",
    "    \n",
    "    # Contamos las vocales en la palabra.\n",
    "    count = sum(1 for char in word_lower if char in vowels)\n",
    "    \n",
    "    return count\n",
    "\n",
    "# Test para entradas inválidas\n",
    "def test_invalid_input():\n",
    "    with pytest.raises(ValueError, match=\"La entrada debe ser una palabra\"):\n",
    "        count_vowels(123)\n",
    "    with pytest.raises(ValueError, match=\"La entrada debe ser una palabra\"):\n",
    "        count_vowels([\"hola\", \"mundo\"])\n",
    "    with pytest.raises(ValueError, match=\"La entrada debe ser una palabra\"):\n",
    "        count_vowels(\"\")\n",
    "\n",
    "# Test para verificar el conteo correcto de vocales\n",
    "def test_count_vowels_correct():\n",
    "    # 'hola' tiene 2 vocales: o, a\n",
    "    assert count_vowels(\"hola\") == 2\n",
    "\n",
    "    # 'programacion' contiene: o, a, a, i, o → 5 vocales\n",
    "    assert count_vowels(\"programacion\") == 5\n",
    "\n",
    "    # Comprobamos que la función sea insensible a mayúsculas\n",
    "    assert count_vowels(\"AEIOU\") == 5\n",
    "    assert count_vowels(\"aeiou\") == 5\n",
    "\n",
    "# Test para el conteo de vocales en palabras con acento\n",
    "def test_count_vowels_accented():\n",
    "    # La palabra \"programación\" tiene 5 vocales: o, a, a, i, ó\n",
    "    assert count_vowels(\"programación\") == 5\n"
   ]
  },
  {
   "cell_type": "markdown",
   "metadata": {
    "application/vnd.databricks.v1+cell": {
     "cellMetadata": {},
     "inputWidgets": {},
     "nuid": "f73f7073-b29c-41fa-a8f3-8119e6433e36",
     "showTitle": false,
     "tableResultSettingsMap": {},
     "title": ""
    }
   },
   "source": []
  }
 ],
 "metadata": {
  "application/vnd.databricks.v1+notebook": {
   "computePreferences": null,
   "dashboards": [],
   "environmentMetadata": {
    "base_environment": "",
    "environment_version": "1"
   },
   "inputWidgetPreferences": null,
   "language": "python",
   "notebookMetadata": {
    "pythonIndentUnit": 4
   },
   "notebookName": "Programación_basica_Python",
   "widgets": {}
  }
 },
 "nbformat": 4,
 "nbformat_minor": 0
}